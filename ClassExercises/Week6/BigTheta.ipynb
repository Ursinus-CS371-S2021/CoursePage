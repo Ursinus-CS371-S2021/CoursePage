{
 "cells": [
  {
   "cell_type": "markdown",
   "id": "subject-slope",
   "metadata": {},
   "source": [
    "## Big Theta\n",
    "\n",
    "### Ex) Prove that $T(N) = N^3 + 3N^2 + 10N$ is $\\Theta(N^3)$"
   ]
  },
  {
   "cell_type": "markdown",
   "id": "alive-hearts",
   "metadata": {},
   "source": [
    "Need to prove that both $T(N)$ is $\\Omega(N^3)$ and $T(N)$ is $O(N^3)$"
   ]
  },
  {
   "cell_type": "markdown",
   "id": "seventh-lending",
   "metadata": {},
   "source": [
    "#### Step 1: Big-O\n",
    "First, let's do big-O (showing that N^3 is an upper bound, up to some constant)\n",
    "\n",
    "$T(N) = N^3 + 3N^2 + 10N \\leq N^3 + 3N^3 + 10N^3, N > 1$"
   ]
  },
  {
   "cell_type": "markdown",
   "id": "affecting-density",
   "metadata": {},
   "source": [
    "$T(N) \\leq 14 N^3, N > 1$\n",
    "\n",
    "We just found a constant $c = 14$ so that \n",
    "\n",
    "$T(N) \\leq cN^3, N > 1$\n"
   ]
  },
  {
   "cell_type": "markdown",
   "id": "steady-gravity",
   "metadata": {},
   "source": [
    "#### Step 1: Big-$\\Omega$\n",
    "\n",
    "We need to show that $N^3$ is a lower bound, we need to find a constant $c$ so that\n",
    "\n",
    "$T(N) \\geq cN^3$\n",
    "\n",
    "$T(N) = N^3 + 3N^2 + 10N \\geq N^3, N > 1$\n",
    "\n",
    "$T(N) \\geq N^3$\n"
   ]
  },
  {
   "cell_type": "markdown",
   "id": "respective-integration",
   "metadata": {},
   "source": [
    "Therefore, $T(N)$ is $\\Theta(N)$"
   ]
  },
  {
   "cell_type": "markdown",
   "id": "superb-partnership",
   "metadata": {},
   "source": [
    "$N^3$ is $O(N^8)$\n",
    "\n",
    "$N^3 + 3N^2 + 10N$ is $\\Theta(N^3)$, $N^3$ is the lowest upper bound that I can find, and $N^3$ is also the greatest lower bound I can find\n",
    "\n",
    "The bound is \"tight\"; can't do any better or worse"
   ]
  },
  {
   "cell_type": "code",
   "execution_count": null,
   "id": "natural-wildlife",
   "metadata": {},
   "outputs": [],
   "source": []
  }
 ],
 "metadata": {
  "kernelspec": {
   "display_name": "Python 3",
   "language": "python",
   "name": "python3"
  },
  "language_info": {
   "codemirror_mode": {
    "name": "ipython",
    "version": 3
   },
   "file_extension": ".py",
   "mimetype": "text/x-python",
   "name": "python",
   "nbconvert_exporter": "python",
   "pygments_lexer": "ipython3",
   "version": "3.7.6"
  }
 },
 "nbformat": 4,
 "nbformat_minor": 5
}
